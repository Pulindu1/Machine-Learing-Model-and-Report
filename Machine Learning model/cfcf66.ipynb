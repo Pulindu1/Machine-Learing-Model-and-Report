{
 "cells": [
  {
   "cell_type": "code",
   "execution_count": 1,
   "id": "9acc4808",
   "metadata": {},
   "outputs": [],
   "source": [
    "# import main libraries required\n",
    "import pandas as pd\n",
    "import numpy as np\n",
    "import seaborn as sns\n",
    "import matplotlib.pyplot as plt\n",
    "from matplotlib import pyplot as plt\n",
    "%matplotlib inline"
   ]
  },
  {
   "cell_type": "code",
   "execution_count": 14,
   "id": "368e0a55",
   "metadata": {},
   "outputs": [
    {
     "name": "stdout",
     "output_type": "stream",
     "text": [
      "(253680, 22)\n",
      "              HighBP       HighChol      CholCheck            BMI  \\\n",
      "count  253680.000000  253680.000000  253680.000000  253680.000000   \n",
      "mean        0.429001       0.424121       0.962670      28.382364   \n",
      "std         0.494934       0.494210       0.189571       6.608694   \n",
      "min         0.000000       0.000000       0.000000      12.000000   \n",
      "25%         0.000000       0.000000       1.000000      24.000000   \n",
      "50%         0.000000       0.000000       1.000000      27.000000   \n",
      "75%         1.000000       1.000000       1.000000      31.000000   \n",
      "max         1.000000       1.000000       1.000000      98.000000   \n",
      "\n",
      "              Smoker         Stroke  HeartDiseaseorAttack   PhysActivity  \\\n",
      "count  253680.000000  253680.000000         253680.000000  253680.000000   \n",
      "mean        0.443169       0.040571              0.094186       0.756544   \n",
      "std         0.496761       0.197294              0.292087       0.429169   \n",
      "min         0.000000       0.000000              0.000000       0.000000   \n",
      "25%         0.000000       0.000000              0.000000       1.000000   \n",
      "50%         0.000000       0.000000              0.000000       1.000000   \n",
      "75%         1.000000       0.000000              0.000000       1.000000   \n",
      "max         1.000000       1.000000              1.000000       1.000000   \n",
      "\n",
      "              Fruits        Veggies  ...    NoDocbcCost        GenHlth  \\\n",
      "count  253680.000000  253680.000000  ...  253680.000000  253680.000000   \n",
      "mean        0.634256       0.811420  ...       0.084177       2.511392   \n",
      "std         0.481639       0.391175  ...       0.277654       1.068477   \n",
      "min         0.000000       0.000000  ...       0.000000       1.000000   \n",
      "25%         0.000000       1.000000  ...       0.000000       2.000000   \n",
      "50%         1.000000       1.000000  ...       0.000000       2.000000   \n",
      "75%         1.000000       1.000000  ...       0.000000       3.000000   \n",
      "max         1.000000       1.000000  ...       1.000000       5.000000   \n",
      "\n",
      "            MentHlth       PhysHlth       DiffWalk            Sex  \\\n",
      "count  253680.000000  253680.000000  253680.000000  253680.000000   \n",
      "mean        3.184772       4.242081       0.168224       0.440342   \n",
      "std         7.412847       8.717951       0.374066       0.496429   \n",
      "min         0.000000       0.000000       0.000000       0.000000   \n",
      "25%         0.000000       0.000000       0.000000       0.000000   \n",
      "50%         0.000000       0.000000       0.000000       0.000000   \n",
      "75%         2.000000       3.000000       0.000000       1.000000   \n",
      "max        30.000000      30.000000       1.000000       1.000000   \n",
      "\n",
      "                 Age      Education         Income         target  \n",
      "count  253680.000000  253680.000000  253680.000000  253680.000000  \n",
      "mean        8.032119       5.050434       6.053875       0.139333  \n",
      "std         3.054220       0.985774       2.071148       0.346294  \n",
      "min         1.000000       1.000000       1.000000       0.000000  \n",
      "25%         6.000000       4.000000       5.000000       0.000000  \n",
      "50%         8.000000       5.000000       7.000000       0.000000  \n",
      "75%        10.000000       6.000000       8.000000       0.000000  \n",
      "max        13.000000       6.000000       8.000000       1.000000  \n",
      "\n",
      "[8 rows x 22 columns]\n"
     ]
    }
   ],
   "source": [
    "# get and print the dataset\n",
    "from ucimlrepo import fetch_ucirepo\n",
    "import pandas as pd\n",
    "cdc_diabetes_health_indicators = fetch_ucirepo(id=891)\n",
    "X = cdc_diabetes_health_indicators.data.features\n",
    "y = cdc_diabetes_health_indicators.data.targets\n",
    "dataset = pd.DataFrame(X)\n",
    "dataset['target'] = y\n",
    "\n",
    "print(dataset.shape)\n",
    "print(dataset.describe())"
   ]
  },
  {
   "cell_type": "code",
   "execution_count": 3,
   "id": "266b7d8b",
   "metadata": {},
   "outputs": [
    {
     "name": "stdout",
     "output_type": "stream",
     "text": [
      "   Diabetes_binary  HighBP  HighChol  CholCheck  BMI  Smoker  Stroke  \\\n",
      "0                0       1         1          1   40       1       0   \n",
      "1                0       0         0          0   25       1       0   \n",
      "2                0       1         1          1   28       0       0   \n",
      "3                0       1         0          1   27       0       0   \n",
      "4                0       1         1          1   24       0       0   \n",
      "\n",
      "   HeartDiseaseorAttack  PhysActivity  Fruits  ...  AnyHealthcare  \\\n",
      "0                     0             0       0  ...              1   \n",
      "1                     0             1       0  ...              0   \n",
      "2                     0             0       1  ...              1   \n",
      "3                     0             1       1  ...              1   \n",
      "4                     0             1       1  ...              1   \n",
      "\n",
      "   NoDocbcCost  GenHlth  MentHlth  PhysHlth  DiffWalk  Sex  Age  Education  \\\n",
      "0            0        5        18        15         1    0    9          4   \n",
      "1            1        3         0         0         0    0    7          6   \n",
      "2            1        5        30        30         1    0    9          4   \n",
      "3            0        2         0         0         0    0   11          3   \n",
      "4            0        2         3         0         0    0   11          5   \n",
      "\n",
      "   Income  \n",
      "0       3  \n",
      "1       1  \n",
      "2       8  \n",
      "3       6  \n",
      "4       4  \n",
      "\n",
      "[5 rows x 22 columns]\n"
     ]
    }
   ],
   "source": [
    "# convert data to integers\n",
    "dataset['Diabetes_binary'] = dataset['Diabetes_binary'].astype('int')\n",
    "dataset['HighBP'] = dataset['HighBP'].astype('int')\n",
    "dataset['HighChol'] = dataset['HighChol'].astype('int')\n",
    "dataset['CholCheck'] = dataset['CholCheck'].astype('int')\n",
    "dataset['BMI'] = dataset['BMI'].astype('int')\n",
    "dataset['Smoker'] = dataset['Smoker'].astype('int')\n",
    "dataset['Stroke'] = dataset['Stroke'].astype('int')\n",
    "dataset['HeartDiseaseorAttack'] = dataset['HeartDiseaseorAttack'].astype('int')\n",
    "dataset['PhysActivity'] = dataset['PhysActivity'].astype('int')\n",
    "dataset['Fruits'] = dataset['Fruits'].astype('int')\n",
    "dataset['Veggies'] = dataset['Veggies'].astype('int')\n",
    "dataset['HvyAlcoholConsump'] = dataset['HvyAlcoholConsump'].astype('int')\n",
    "dataset['AnyHealthcare'] = dataset['AnyHealthcare'].astype('int')\n",
    "dataset['NoDocbcCost'] = dataset['NoDocbcCost'].astype('int')\n",
    "dataset['GenHlth'] = dataset['GenHlth'].astype('int')\n",
    "dataset['MentHlth'] = dataset['MentHlth'].astype('int')\n",
    "dataset['PhysHlth'] = dataset['PhysHlth'].astype('int')\n",
    "dataset['DiffWalk'] = dataset['DiffWalk'].astype('int')\n",
    "dataset['Sex'] = dataset['Sex'].astype('int')\n",
    "dataset['Age'] = dataset['Age'].astype('int')\n",
    "dataset['Education'] = dataset['Education'].astype('int')\n",
    "dataset['Income'] = dataset['Income'].astype('int')\n",
    "\n",
    "print(dataset.head())"
   ]
  },
  {
   "cell_type": "code",
   "execution_count": 4,
   "id": "32f0c104",
   "metadata": {},
   "outputs": [
    {
     "data": {
      "text/plain": [
       "Diabetes_binary         0\n",
       "HighBP                  0\n",
       "HighChol                0\n",
       "CholCheck               0\n",
       "BMI                     0\n",
       "Smoker                  0\n",
       "Stroke                  0\n",
       "HeartDiseaseorAttack    0\n",
       "PhysActivity            0\n",
       "Fruits                  0\n",
       "Veggies                 0\n",
       "HvyAlcoholConsump       0\n",
       "AnyHealthcare           0\n",
       "NoDocbcCost             0\n",
       "GenHlth                 0\n",
       "MentHlth                0\n",
       "PhysHlth                0\n",
       "DiffWalk                0\n",
       "Sex                     0\n",
       "Age                     0\n",
       "Education               0\n",
       "Income                  0\n",
       "dtype: int64"
      ]
     },
     "execution_count": 4,
     "metadata": {},
     "output_type": "execute_result"
    }
   ],
   "source": [
    "# lsit of features\n",
    "features = [\n",
    "    'HighBP', 'HighChol', 'CholCheck', 'BMI', 'Smoker', 'Stroke',\n",
    "    'HeartDiseaseorAttack', 'PhysActivity', 'Fruits', 'Veggies', \n",
    "    'HvyAlcoholConsump', 'AnyHealthcare', 'NoDocbcCost', 'GenHlth',\n",
    "    'MentHlth', 'PhysHlth', 'DiffWalk', 'Sex', 'Age', 'Education', 'Income'\n",
    "]\n",
    "# check for empty cells\n",
    "dataset.isnull().sum()"
   ]
  },
  {
   "cell_type": "code",
   "execution_count": 5,
   "id": "14374973",
   "metadata": {},
   "outputs": [
    {
     "name": "stdout",
     "output_type": "stream",
     "text": [
      "Features with non 0/1 values in the dataset: \n",
      "\n",
      "Column 'BMI' contains non 0/1 values.\n",
      "Column 'GenHlth' contains non 0/1 values.\n",
      "Column 'MentHlth' contains non 0/1 values.\n",
      "Column 'PhysHlth' contains non 0/1 values.\n",
      "Column 'Age' contains non 0/1 values.\n",
      "Column 'Education' contains non 0/1 values.\n",
      "Column 'Income' contains non 0/1 values.\n"
     ]
    }
   ],
   "source": [
    "# find if any binary columns have anything they shouldn't\n",
    "print(\"Features w non 0 or 1 vals in the data: \\n\")\n",
    "for feature in feature:\n",
    "    if not dataset[feature].isin([0, 1]).all():\n",
    "        print(f\"Colmn '{feature}' has non 0/1 values\")"
   ]
  },
  {
   "cell_type": "code",
   "execution_count": 6,
   "id": "f362baa4",
   "metadata": {},
   "outputs": [],
   "source": [
    "# prepare the dataset\n",
    "from sklearn.model_selection import train_test_split\n",
    "answers = dataset['Diabetes_binary']\n",
    "data = dataset.drop(['Diabetes_binary'], axis=1)\n",
    "# data = dataset.drop(['Diabetes_binary', 'Income', 'Education', 'MentHlth'], axis=1)\n"
   ]
  },
  {
   "cell_type": "code",
   "execution_count": 7,
   "id": "e84ae5be",
   "metadata": {},
   "outputs": [
    {
     "data": {
      "image/png": "[encoded data removed]",
      "text/plain": [
       "<Figure size 432x216 with 1 Axes>"
      ]
     },
     "metadata": {
      "needs_background": "light"
     },
     "output_type": "display_data"
    }
   ],
   "source": [
    "# graph of education distribution\n",
    "plt.figure(figsize=(6, 3))\n",
    "sns.countplot(x='Education', data=dataset)\n",
    "plt.title('Distribution of Education Before One-Hot Encoding')\n",
    "plt.xlabel('Education Level')\n",
    "plt.ylabel('Count')\n",
    "plt.xticks(rotation=90)\n",
    "plt.show()"
   ]
  },
  {
   "cell_type": "code",
   "execution_count": 8,
   "id": "8ba95623",
   "metadata": {},
   "outputs": [],
   "source": [
    "# one-hot encoding\n",
    "categorical_features = ['BMI', 'GenHlth', 'MentHlth', 'PhysHlth', 'Age', 'Education', 'Income']\n",
    "# categorical_features = ['BMI', 'GenHlth', 'PhysHlth', 'Age',]\n",
    "encoded_data = pd.get_dummies(data, columns=categorical_features)\n",
    "dataset.drop(columns=categorical_features, inplace=True)\n",
    "dataset = pd.concat([dataset, encoded_data], axis=1)"
   ]
  },
  {
   "cell_type": "code",
   "execution_count": 9,
   "id": "6da866e6",
   "metadata": {},
   "outputs": [
    {
     "data": {
      "image/png": "[encoded data removed]",
      "text/plain": [
       "<Figure size 1080x432 with 6 Axes>"
      ]
     },
     "metadata": {
      "needs_background": "light"
     },
     "output_type": "display_data"
    }
   ],
   "source": [
    "# graph after onehot\n",
    "\n",
    "education_encoded_cols = [col for col in dataset.columns if col.startswith('Education_')]\n",
    "fig, axes = plt.subplots(nrows=1, ncols=len(education_encoded_cols), figsize=(15, 6))\n",
    "\n",
    "for i, col in enumerate(education_encoded_cols):\n",
    "    sns.countplot(x=col, data=dataset, ax=axes[i])\n",
    "    axes[i].set_title(col)\n",
    "    axes[i].set_ylabel('Count')\n",
    "    axes[i].set_xticklabels([]) \n",
    "\n",
    "plt.tight_layout()\n",
    "plt.show()\n"
   ]
  },
  {
   "cell_type": "code",
   "execution_count": 10,
   "id": "31d9a323",
   "metadata": {},
   "outputs": [
    {
     "name": "stdout",
     "output_type": "stream",
     "text": [
      "dataset: (253680, 192) training set: (142060, 21) testing set: (76104, 21) validation set: (35516, 21)\n"
     ]
    }
   ],
   "source": [
    "# split data into testset and training set\n",
    "temp_training_set, test_set, temp_training_ans, test_ans = train_test_split(\n",
    "    data, answers, test_size=0.3, random_state=34)\n",
    "# create validation set\n",
    "training_set, validation_set, training_ans, validation_ans = train_test_split(\n",
    "    temp_training_set, temp_training_ans, test_size=0.2, random_state=34)\n",
    "# training size = 56%, validation=14%, test=30%  \n",
    "\n",
    "print(\"dataset:\", encoded_data.shape,\n",
    "      \"training set:\", training_set.shape,\n",
    "      \"testing set:\", test_set.shape,\n",
    "      \"validation set:\", validation_set.shape\n",
    "     )\n",
    "# print(encoded_data.describe())"
   ]
  },
  {
   "cell_type": "code",
   "execution_count": 11,
   "id": "68f8a90f",
   "metadata": {},
   "outputs": [
    {
     "data": {
      "image/png": "[encoded data removed]",
      "text/plain": [
       "<Figure size 576x432 with 1 Axes>"
      ]
     },
     "metadata": {},
     "output_type": "display_data"
    }
   ],
   "source": [
    "# Counting diabetic and non-diabetic patients\n",
    "diabetic_num= dataset['Diabetes_binary'].value_counts()\n",
    "\n",
    "# pie chart\n",
    "plt.figure(figsize=(8, 6))\n",
    "plt.pie(diabetic_num, labels=['Non-Diabetic', 'Diabetic'], autopct='%1.1f%%', startangle=140)\n",
    "plt.title('Distribution of Diabetic and Non-Diabetic Patients')\n",
    "plt.show()"
   ]
  },
  {
   "cell_type": "code",
   "execution_count": 12,
   "id": "a2c72c2e",
   "metadata": {},
   "outputs": [
    {
     "name": "stdout",
     "output_type": "stream",
     "text": [
      "C = 0.0001:\n",
      "  Accuracy: 0.7222941772722153\n",
      "  F1 Score for class 0: 0.8180090414244856\n",
      "  F1 Score for class 1: 0.41420680643820157\n",
      "\n",
      "C = 0.00026366508987303583:\n",
      "  Accuracy: 0.7218999887374704\n",
      "  F1 Score for class 0: 0.8177305357175811\n",
      "  F1 Score for class 1: 0.4135842783352134\n",
      "\n",
      "C = 0.0006951927961775605:\n",
      "  Accuracy: 0.7219844577092015\n",
      "  F1 Score for class 0: 0.817789260011072\n",
      "  F1 Score for class 1: 0.4137275857974113\n",
      "\n",
      "C = 0.0018329807108324356:\n",
      "  Accuracy: 0.7219844577092015\n",
      "  F1 Score for class 0: 0.817789260011072\n",
      "  F1 Score for class 1: 0.4137275857974113\n",
      "\n",
      "C = 0.004832930238571752:\n",
      "  Accuracy: 0.7220126140331118\n",
      "  F1 Score for class 0: 0.8178110756398664\n",
      "  F1 Score for class 1: 0.4137521524850068\n",
      "\n",
      "C = 0.012742749857031334:\n",
      "  Accuracy: 0.7219844577092015\n",
      "  F1 Score for class 0: 0.8177959846471804\n",
      "  F1 Score for class 1: 0.41365795724465554\n",
      "\n",
      "C = 0.03359818286283781:\n",
      "  Accuracy: 0.7219844577092015\n",
      "  F1 Score for class 0: 0.8177959846471804\n",
      "  F1 Score for class 1: 0.41365795724465554\n",
      "\n",
      "C = 0.08858667904100823:\n",
      "  Accuracy: 0.7219844577092015\n",
      "  F1 Score for class 0: 0.8177959846471804\n",
      "  F1 Score for class 1: 0.41365795724465554\n",
      "\n",
      "C = 0.23357214690901212:\n",
      "  Accuracy: 0.7219844577092015\n",
      "  F1 Score for class 0: 0.8177959846471804\n",
      "  F1 Score for class 1: 0.41365795724465554\n",
      "\n",
      "C = 0.615848211066026:\n",
      "  Accuracy: 0.7219844577092015\n",
      "  F1 Score for class 0: 0.8177959846471804\n",
      "  F1 Score for class 1: 0.41365795724465554\n",
      "\n",
      "C = 1.623776739188721:\n",
      "  Accuracy: 0.7219844577092015\n",
      "  F1 Score for class 0: 0.8177959846471804\n",
      "  F1 Score for class 1: 0.41365795724465554\n",
      "\n"
     ]
    },
    {
     "name": "stderr",
     "output_type": "stream",
     "text": [
      "/Users/pulindufonseka/opt/anaconda3/lib/python3.9/site-packages/sklearn/svm/_base.py:1206: ConvergenceWarning: Liblinear failed to converge, increase the number of iterations.\n",
      "  warnings.warn(\n"
     ]
    },
    {
     "name": "stdout",
     "output_type": "stream",
     "text": [
      "C = 4.281332398719396:\n",
      "  Accuracy: 0.7219844577092015\n",
      "  F1 Score for class 0: 0.8177959846471804\n",
      "  F1 Score for class 1: 0.41365795724465554\n",
      "\n"
     ]
    },
    {
     "name": "stderr",
     "output_type": "stream",
     "text": [
      "/Users/pulindufonseka/opt/anaconda3/lib/python3.9/site-packages/sklearn/svm/_base.py:1206: ConvergenceWarning: Liblinear failed to converge, increase the number of iterations.\n",
      "  warnings.warn(\n"
     ]
    },
    {
     "name": "stdout",
     "output_type": "stream",
     "text": [
      "C = 11.288378916846883:\n",
      "  Accuracy: 0.7220407703570222\n",
      "  F1 Score for class 0: 0.8178463355229167\n",
      "  F1 Score for class 1: 0.4136374435732953\n",
      "\n"
     ]
    },
    {
     "name": "stderr",
     "output_type": "stream",
     "text": [
      "/Users/pulindufonseka/opt/anaconda3/lib/python3.9/site-packages/sklearn/svm/_base.py:1206: ConvergenceWarning: Liblinear failed to converge, increase the number of iterations.\n",
      "  warnings.warn(\n"
     ]
    },
    {
     "name": "stdout",
     "output_type": "stream",
     "text": [
      "C = 29.763514416313132:\n",
      "  Accuracy: 0.7220970830048429\n",
      "  F1 Score for class 0: 0.8179235537190083\n",
      "  F1 Score for class 1: 0.41333808844507847\n",
      "\n"
     ]
    },
    {
     "name": "stderr",
     "output_type": "stream",
     "text": [
      "/Users/pulindufonseka/opt/anaconda3/lib/python3.9/site-packages/sklearn/svm/_base.py:1206: ConvergenceWarning: Liblinear failed to converge, increase the number of iterations.\n",
      "  warnings.warn(\n"
     ]
    },
    {
     "name": "stdout",
     "output_type": "stream",
     "text": [
      "C = 78.47599703514607:\n",
      "  Accuracy: 0.7103558959342269\n",
      "  F1 Score for class 0: 0.8075937529224727\n",
      "  F1 Score for class 1: 0.41441338874025163\n",
      "\n"
     ]
    },
    {
     "name": "stderr",
     "output_type": "stream",
     "text": [
      "/Users/pulindufonseka/opt/anaconda3/lib/python3.9/site-packages/sklearn/svm/_base.py:1206: ConvergenceWarning: Liblinear failed to converge, increase the number of iterations.\n",
      "  warnings.warn(\n"
     ]
    },
    {
     "name": "stdout",
     "output_type": "stream",
     "text": [
      "C = 206.913808111479:\n",
      "  Accuracy: 0.6825937605586214\n",
      "  F1 Score for class 0: 0.7836899165307494\n",
      "  F1 Score for class 1: 0.4040809853570863\n",
      "\n"
     ]
    },
    {
     "name": "stderr",
     "output_type": "stream",
     "text": [
      "/Users/pulindufonseka/opt/anaconda3/lib/python3.9/site-packages/sklearn/svm/_base.py:1206: ConvergenceWarning: Liblinear failed to converge, increase the number of iterations.\n",
      "  warnings.warn(\n"
     ]
    },
    {
     "name": "stdout",
     "output_type": "stream",
     "text": [
      "C = 545.5594781168514:\n",
      "  Accuracy: 0.7191125126703457\n",
      "  F1 Score for class 0: 0.8185588010621658\n",
      "  F1 Score for class 1: 0.37844236760124605\n",
      "\n"
     ]
    },
    {
     "name": "stderr",
     "output_type": "stream",
     "text": [
      "/Users/pulindufonseka/opt/anaconda3/lib/python3.9/site-packages/sklearn/svm/_base.py:1206: ConvergenceWarning: Liblinear failed to converge, increase the number of iterations.\n",
      "  warnings.warn(\n"
     ]
    },
    {
     "name": "stdout",
     "output_type": "stream",
     "text": [
      "C = 1438.44988828766:\n",
      "  Accuracy: 0.6598997634868792\n",
      "  F1 Score for class 0: 0.7742960180877103\n",
      "  F1 Score for class 1: 0.3103625463888096\n",
      "\n"
     ]
    },
    {
     "name": "stderr",
     "output_type": "stream",
     "text": [
      "/Users/pulindufonseka/opt/anaconda3/lib/python3.9/site-packages/sklearn/svm/_base.py:1206: ConvergenceWarning: Liblinear failed to converge, increase the number of iterations.\n",
      "  warnings.warn(\n"
     ]
    },
    {
     "name": "stdout",
     "output_type": "stream",
     "text": [
      "C = 3792.690190732246:\n",
      "  Accuracy: 0.6270413334835004\n",
      "  F1 Score for class 0: 0.7392930247205164\n",
      "  F1 Score for class 1: 0.3450356012658227\n",
      "\n"
     ]
    },
    {
     "name": "stderr",
     "output_type": "stream",
     "text": [
      "/Users/pulindufonseka/opt/anaconda3/lib/python3.9/site-packages/sklearn/svm/_base.py:1206: ConvergenceWarning: Liblinear failed to converge, increase the number of iterations.\n",
      "  warnings.warn(\n"
     ]
    },
    {
     "name": "stdout",
     "output_type": "stream",
     "text": [
      "C = 10000.0:\n",
      "  Accuracy: 0.67121860569884\n",
      "  F1 Score for class 0: 0.7921835234654471\n",
      "  F1 Score for class 1: 0.2132991982752813\n",
      "\n"
     ]
    },
    {
     "ename": "NameError",
     "evalue": "name 'train_accuracies' is not defined",
     "output_type": "error",
     "traceback": [
      "\u001b[0;31m---------------------------------------------------------------------------\u001b[0m",
      "\u001b[0;31mNameError\u001b[0m                                 Traceback (most recent call last)",
      "Input \u001b[0;32mIn [12]\u001b[0m, in \u001b[0;36m<cell line: 42>\u001b[0;34m()\u001b[0m\n\u001b[1;32m     39\u001b[0m plt\u001b[38;5;241m.\u001b[39mfigure(figsize\u001b[38;5;241m=\u001b[39m(\u001b[38;5;241m10\u001b[39m, \u001b[38;5;241m5\u001b[39m))\n\u001b[1;32m     41\u001b[0m plt\u001b[38;5;241m.\u001b[39msubplot(\u001b[38;5;241m1\u001b[39m, \u001b[38;5;241m2\u001b[39m, \u001b[38;5;241m1\u001b[39m)\n\u001b[0;32m---> 42\u001b[0m plt\u001b[38;5;241m.\u001b[39msemilogx(C_values, \u001b[43mtrain_accuracies\u001b[49m, label\u001b[38;5;241m=\u001b[39m\u001b[38;5;124m'\u001b[39m\u001b[38;5;124mTraining Accuracy\u001b[39m\u001b[38;5;124m'\u001b[39m)\n\u001b[1;32m     43\u001b[0m plt\u001b[38;5;241m.\u001b[39msemilogx(C_values, validation_accuracies, label\u001b[38;5;241m=\u001b[39m\u001b[38;5;124m'\u001b[39m\u001b[38;5;124mValidation Accuracy\u001b[39m\u001b[38;5;124m'\u001b[39m)\n\u001b[1;32m     44\u001b[0m plt\u001b[38;5;241m.\u001b[39mtitle(\u001b[38;5;124m'\u001b[39m\u001b[38;5;124mAccuracy vs C\u001b[39m\u001b[38;5;124m'\u001b[39m)\n",
      "\u001b[0;31mNameError\u001b[0m: name 'train_accuracies' is not defined"
     ]
    },
    {
     "data": {
      "image/png": "[encoded data removed]",
      "text/plain": [
       "<Figure size 720x360 with 1 Axes>"
      ]
     },
     "metadata": {
      "needs_background": "light"
     },
     "output_type": "display_data"
    }
   ],
   "source": [
    "# SVC hyperparameter tuning\n",
    "from sklearn.model_selection import train_test_split\n",
    "from sklearn.svm import LinearSVC\n",
    "from sklearn.metrics import accuracy_score, f1_score\n",
    "import matplotlib.pyplot as plt\n",
    "from sklearn.preprocessing import StandardScaler\n",
    "from sklearn.pipeline import make_pipeline\n",
    "from imblearn.over_sampling import SMOTE\n",
    "from sklearn.preprocessing import StandardScaler\n",
    "\n",
    "C_vals = np.logspace(-4, 4, 20)\n",
    "smote = SMOTE(random_state=42)\n",
    "\n",
    "# SMOTE on training data\n",
    "X_train_smote, y_train_smote = smote.fit_resample(training_set, training_ans)\n",
    "for C in C_vals:\n",
    "    linear_svc = make_pipeline(StandardScaler(), LinearSVC(C=C, max_iter=10000, random_state=42))\n",
    "    linear_svc.fit(X_train_smote, y_train_smote)\n",
    "\n",
    "    validation_preds = linear_svc.predict(validation_set)\n",
    "    accuracy = accuracy_score(validation_ans, validation_preds)\n",
    "    f1_scores = f1_score(validation_ans, validation_preds, average=None) \n",
    "\n",
    "    # Print\n",
    "    print(f\"C = {C}:\")\n",
    "    print(f\"Accuracy: {accuracy}\")\n",
    "    print(f\"F1 Score for class 0: {f1_scores[0]}\")\n",
    "    print(f\"F1 Score for class 1: {f1_scores[1]}\\n\")\n",
    "\n",
    "\n",
    "# Plotting\n",
    "plt.figure(figsize=(10, 20))\n",
    "plt.subplot(1, 2, 1)\n",
    "plt.semilogx(C_vals, train_accuracies, label='Training Accuracy')\n",
    "plt.semilogx(C_vals, validation_accuracies, label='Validation Accuracy')\n",
    "plt.title('Accuracy/C')\n",
    "plt.xlabel('C')\n",
    "plt.ylabel('Accuracy')\n",
    "plt.legend()\n",
    "\n",
    "plt.subplot(1, 2, 2)\n",
    "plt.semilogx(C_vals, train_f1_scores, label='Training F1 Score')\n",
    "plt.semilogx(C_vals, validation_f1_scores, label='Validation F1 Score')\n",
    "plt.title('F1 Score/C')\n",
    "plt.xlabel('C')\n",
    "plt.ylabel('F1 Score')\n",
    "plt.legend()\n",
    "\n",
    "plt.tight_layout()\n",
    "plt.show()\n",
    "\n"
   ]
  },
  {
   "cell_type": "code",
   "execution_count": null,
   "id": "8dd65421",
   "metadata": {},
   "outputs": [],
   "source": [
    "# optimised Linear SVC\n",
    "from sklearn.model_selection import train_test_split\n",
    "from sklearn.svm import LinearSVC\n",
    "from sklearn.metrics import accuracy_score, f1_score\n",
    "from sklearn.preprocessing import StandardScaler\n",
    "from sklearn.pipeline import make_pipeline\n",
    "from imblearn.over_sampling import SMOTE\n",
    "\n",
    "# split data\n",
    "interim_train_set, testing_set, interim_train_ans, testing_ans = train_test_split(data, answers, test_size=0.2, random_state=42)\n",
    "training_set, validation_set, training_ans, validation_ans = train_test_split(interim_train_set, interim_train_ans, test_size=0.25, random_state=42) \n",
    "\n",
    "# smote\n",
    "smote = SMOTE(random_state=42)\n",
    "X_train_smote, y_train_smote = smote.fit_resample(training_set, training_ans)\n",
    "\n",
    "# SVC\n",
    "linear_svc = make_pipeline(StandardScaler(), LinearSVC(C=0.004832930238571752, max_iter=10000, random_state=42))\n",
    "linear_svc.fit(X_train_smote, y_train_smote)\n",
    "\n",
    "validation_predictions = linear_svc.predict(validation_set)\n",
    "validation_accuracy = accuracy_score(validation_ans, validation_predictions)\n",
    "validation_f1_scores = f1_score(validation_ans, validation_predictions, average=None)  \n",
    "test_predictions = linear_svc.predict(testing_set)\n",
    "test_accuracy = accuracy_score(testing_ans, test_predictions)\n",
    "test_f1_scores = f1_score(testing_ans, test_predictions, average=None) \n",
    "\n",
    "print(f\"Validation Accuracy: {validation_accuracy}\")\n",
    "print(f\"Validation F1 Score for class 0: {validation_f1_scores[0]}\")\n",
    "print(f\"Validation F1 Score for class 1: {validation_f1_scores[1]}\")\n",
    "\n",
    "print(f\"Test Accuracy: {test_accuracy}\")\n",
    "print(f\"Test F1 Score for class 0: {test_f1_scores[0]}\")\n",
    "print(f\"Test F1 Score for class 1: {test_f1_scores[1]}\")\n"
   ]
  },
  {
   "cell_type": "code",
   "execution_count": null,
   "id": "eaadfcc3",
   "metadata": {},
   "outputs": [],
   "source": [
    "from sklearn.neighbors import KNeighborsClassifier\n",
    "from sklearn.metrics import accuracy_score, classification_report\n",
    "from sklearn.preprocessing import StandardScaler\n",
    "\n",
    "scaler = StandardScaler()\n",
    "training_set_scaled = scaler.fit_transform(training_set)\n",
    "testing_set_scaled = scaler.transform(testing_set)\n",
    "knn = KNeighborsClassifier(n_neighbors=5) \n",
    "knn.fit(training_set_scaled, training_ans)\n",
    "\n",
    "testing_pred = knn.predict(testing_set_scaled)\n",
    "accuracy = accuracy_score(testing_ans, testing_pred)\n",
    "print(f\"Accuracy: {accuracy}\")\n",
    "print(\"classification report:\")\n",
    "print(classification_report(testing_ans, testing_pred))\n",
    "\n"
   ]
  },
  {
   "cell_type": "code",
   "execution_count": 13,
   "id": "517f4561",
   "metadata": {},
   "outputs": [
    {
     "ename": "NameError",
     "evalue": "name 'testing_ans' is not defined",
     "output_type": "error",
     "traceback": [
      "\u001b[0;31m---------------------------------------------------------------------------\u001b[0m",
      "\u001b[0;31mNameError\u001b[0m                                 Traceback (most recent call last)",
      "Input \u001b[0;32mIn [13]\u001b[0m, in \u001b[0;36m<cell line: 6>\u001b[0;34m()\u001b[0m\n\u001b[1;32m      4\u001b[0m \u001b[38;5;28;01mfrom\u001b[39;00m \u001b[38;5;21;01msklearn\u001b[39;00m\u001b[38;5;21;01m.\u001b[39;00m\u001b[38;5;21;01mmetrics\u001b[39;00m \u001b[38;5;28;01mimport\u001b[39;00m confusion_matrix, classification_report\n\u001b[1;32m      5\u001b[0m \u001b[38;5;28;01mimport\u001b[39;00m \u001b[38;5;21;01mnumpy\u001b[39;00m \u001b[38;5;28;01mas\u001b[39;00m \u001b[38;5;21;01mnp\u001b[39;00m\n\u001b[0;32m----> 6\u001b[0m cm \u001b[38;5;241m=\u001b[39m confusion_matrix(\u001b[43mtesting_ans\u001b[49m, testing_pred)\n\u001b[1;32m      9\u001b[0m cm_normalized \u001b[38;5;241m=\u001b[39m cm\u001b[38;5;241m.\u001b[39mastype(\u001b[38;5;124m'\u001b[39m\u001b[38;5;124mfloat\u001b[39m\u001b[38;5;124m'\u001b[39m) \u001b[38;5;241m/\u001b[39m cm\u001b[38;5;241m.\u001b[39msum(axis\u001b[38;5;241m=\u001b[39m\u001b[38;5;241m1\u001b[39m)[:, np\u001b[38;5;241m.\u001b[39mnewaxis]\n\u001b[1;32m     10\u001b[0m plt\u001b[38;5;241m.\u001b[39mfigure(figsize\u001b[38;5;241m=\u001b[39m(\u001b[38;5;241m8\u001b[39m, \u001b[38;5;241m6\u001b[39m))\n",
      "\u001b[0;31mNameError\u001b[0m: name 'testing_ans' is not defined"
     ]
    }
   ],
   "source": [
    "# confusion matrix\n",
    "import matplotlib.pyplot as plt\n",
    "import seaborn as sns\n",
    "from sklearn.metrics import confusion_matrix, classification_report\n",
    "import numpy as np\n",
    "cm = confusion_matrix(testing_ans, testing_pred)\n",
    "\n",
    "\n",
    "cm_normalized = cm.astype('float') / cm.sum(axis=1)[:, np.newaxis]\n",
    "plt.figure(figsize=(8, 6))\n",
    "sns.heatmap(cm_normalized, annot=True, fmt='.2f', xticklabels=['Predicted Negative', 'Predicted Positive'], yticklabels=['Actual Negative', 'Actual Positive'])\n",
    "plt.xlabel('Predicted labels')\n",
    "plt.ylabel('True labels')\n",
    "plt.title('Normalized Confusion Matrix Heatmap')\n",
    "plt.show()\n",
    "\n"
   ]
  },
  {
   "cell_type": "code",
   "execution_count": null,
   "id": "dc53fd15",
   "metadata": {},
   "outputs": [],
   "source": [
    "# knn tuning\n",
    "import matplotlib.pyplot as plt\n",
    "from sklearn.metrics import f1_score\n",
    "\n",
    "f1_scores_zero = []\n",
    "f1_scores_one = []\n",
    "accuracies = []\n",
    "\n",
    "for n in range(1, 61):\n",
    "    knn = KNeighborsClassifier(n_neighbors=n)\n",
    "    knn.fit(training_set_scaled, training_ans)\n",
    "    predictions = knn.predict(testing_set_scaled)\n",
    "\n",
    "    # f1 score\n",
    "    f1_scores = f1_score(testing_ans, predictions, average=None) \n",
    "    accuracy = accuracy_score(testing_ans, predictions)\n",
    "    f1_scores_zero.append(f1_scores[0])\n",
    "    f1_scores_one.append(f1_scores[1])\n",
    "    accuracies.append(accuracy)\n",
    "    \n",
    "    print(f\"n neighbors = {n}: F1 Score(0) = {f1_scores[0]:.2f}, F1 Score(1) = {f1_scores[1]:.2f}, Accuracy = {accuracy:.2f}\")\n",
    "\n",
    "# plot\n",
    "plt.figure(figsize=(6, 3))\n",
    "plt.plot(range(1, 61), f1_scores_zero, label='F1 Score (0)', color='blue')\n",
    "plt.plot(range(1, 61), f1_scores_one, label='F1 Score (1)', color='red')\n",
    "plt.plot(range(1, 61), accuracies, label='Accuracy', color='green')\n",
    "plt.title('F1 Scores and Accuracy/num of Neighbors')\n",
    "plt.xlabel('num of neighbors')\n",
    "plt.ylabel('skore')\n",
    "plt.legend()\n",
    "plt.grid(True)\n",
    "plt.show()\n",
    "\n"
   ]
  },
  {
   "cell_type": "code",
   "execution_count": null,
   "id": "d565b033",
   "metadata": {},
   "outputs": [],
   "source": [
    "\n"
   ]
  },
  {
   "cell_type": "code",
   "execution_count": null,
   "id": "0e8adcd3",
   "metadata": {},
   "outputs": [],
   "source": [
    "# rand forest\n"
   ]
  },
  {
   "cell_type": "code",
   "execution_count": null,
   "id": "7d3cb96a",
   "metadata": {},
   "outputs": [],
   "source": [
    "# rand forest#\n"
   ]
  },
  {
   "cell_type": "code",
   "execution_count": null,
   "id": "36f3c216",
   "metadata": {},
   "outputs": [],
   "source": []
  }
 ],
 "metadata": {
  "kernelspec": {
   "display_name": "Python 3 (ipykernel)",
   "language": "python",
   "name": "python3"
  },
  "language_info": {
   "codemirror_mode": {
    "name": "ipython",
    "version": 3
   },
   "file_extension": ".py",
   "mimetype": "text/x-python",
   "name": "python",
   "nbconvert_exporter": "python",
   "pygments_lexer": "ipython3",
   "version": "3.9.12"
  }
 },
 "nbformat": 4,
 "nbformat_minor": 5
}
